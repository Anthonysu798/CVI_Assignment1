{
 "cells": [
  {
   "cell_type": "markdown",
   "metadata": {},
   "source": [
    "## CVI620 Assignment 01"
   ]
  },
  {
   "cell_type": "markdown",
   "metadata": {},
   "source": [
    "We, Group 17(Anthony Su, Yingtong Lyu), declare that the attached assignment is our own work in accordance with the Seneca Academic Policy.  We have not copied any part of this assignment, manually or electronically, from any other source including web sites, unless specified as references. We have not distributed our work to other students."
   ]
  },
  {
   "cell_type": "markdown",
   "metadata": {},
   "source": [
    "#### Part I: A photo booth application"
   ]
  },
  {
   "cell_type": "code",
   "execution_count": null,
   "metadata": {},
   "outputs": [],
   "source": [
    "import cv2\n",
    "import os\n",
    "\n",
    "# Define the folder where images will be saved\n",
    "save_folder = \"PhotoBoothApp\"\n",
    "os.makedirs(save_folder,exist_ok=True)\n",
    "\n",
    "# Initialize the image counter\n",
    "counter = 1\n",
    "\n",
    "# Open the default webcam\n",
    "webcam = cv2.VideoCapture(0)\n",
    "\n",
    "# Check if the webcam is successfully opened\n",
    "if not webcam.isOpened():\n",
    "    print(\"No webcam\")\n",
    "    exit()\n",
    "\n",
    "# Start the video capture loop\n",
    "while(True):\n",
    "    ret, frame = webcam.read()\n",
    "    \n",
    "    if frame is None: break\n",
    "    \n",
    "    cv2.imshow(\"WebCam\", frame)\n",
    "    \n",
    "    # Wait for user input and get the key press\n",
    "    key = cv2.waitKey(1) & 0xFF\n",
    "    \n",
    "    if key == ord('s'):\n",
    "        image = f'{save_folder}/image{counter}.jpg'\n",
    "        cv2.imwrite(image, frame)\n",
    "        counter += 1\n",
    "    \n",
    "    elif key == ord('q'):\n",
    "        break\n",
    "    \n",
    "webcam.release()\n",
    "cv2.destroyAllWindows()"
   ]
  },
  {
   "cell_type": "markdown",
   "metadata": {},
   "source": [
    "#### Part II: Image Arithmetic  \n",
    "#### a. Brightness and Contrast"
   ]
  },
  {
   "cell_type": "code",
   "execution_count": 5,
   "metadata": {},
   "outputs": [],
   "source": [
    "import cv2\n",
    "import numpy as np\n",
    "\n",
    "# i. Open a color image and display\n",
    "image = cv2.imread('QZ.jpg')\n",
    "cv2.imshow('Original Image', image)\n",
    "\n",
    "# ii. Increase brightness by adding a constant\n",
    "brightness = 150\n",
    "bright_image = np.clip(image + brightness, 0, 255).astype(np.uint8)\n",
    "cv2.imshow('Increased Brightness', bright_image)\n",
    "\n",
    "# iii. Change the contrast by multiplying the image by a constant \n",
    "contrast = 0.5\n",
    "contrast_image = np.clip(image * contrast, 0, 255).astype(np.uint8)\n",
    "cv2.imshow('Changed Contrast', contrast_image)\n",
    "\n",
    "cv2.waitKey(0)\n",
    "cv2.destroyAllWindows()"
   ]
  },
  {
   "cell_type": "markdown",
   "metadata": {},
   "source": [
    "#### b.\tLinear blend"
   ]
  },
  {
   "cell_type": "code",
   "execution_count": null,
   "metadata": {},
   "outputs": [],
   "source": [
    "import cv2 as cv\n",
    "import numpy as np\n",
    "\n",
    "# i. Open and read two images\n",
    "img1 = cv.imread('lambo.jpg')\n",
    "img2 = cv.imread('beach.jpg')\n",
    "\n",
    "# Check if images are loaded successfully\n",
    "if img1 is None:\n",
    "    print(\"Error: Could not load 'lambo.jpg'\")\n",
    "    exit()\n",
    "if img2 is None:\n",
    "    print(\"Error: Could not load 'niceview.jpg'\")\n",
    "    exit()\n",
    "\n",
    "# Get dimensions of first image\n",
    "height, width = img1.shape[:2]\n",
    "\n",
    "# Resize second image to match first image dimensions\n",
    "img2 = cv.resize(img2, (width, height))\n",
    "\n",
    "# ii. Ask user for alpha value between 0 and 1\n",
    "alpha = float(input(\"Enter a blending value between 0 and 1: \"))\n",
    "\n",
    "# Ensure alpha is between 0 and 1\n",
    "alpha = max(0, min(1, alpha))\n",
    "\n",
    "# iii. Implement linear blend\n",
    "# blend = (1 - alpha) * img1 + alpha * img2\n",
    "blended = cv.addWeighted(img1, 1 - alpha, img2, alpha, 0)\n",
    "\n",
    "# Display original and blended images\n",
    "cv.imshow('Image 1', img1)\n",
    "cv.imshow('Image 2', img2)\n",
    "cv.imshow('Blended Image', blended)\n",
    "\n",
    "cv.waitKey(0)\n",
    "cv.destroyAllWindows()"
   ]
  },
  {
   "cell_type": "markdown",
   "metadata": {},
   "source": [
    "#### Part III: A Drawing Application\n",
    "#### 1.1 Create a program to draw green rectangles on a image with thickness is 4"
   ]
  },
  {
   "cell_type": "code",
   "execution_count": null,
   "metadata": {},
   "outputs": [],
   "source": [
    "import cv2 as cv\n",
    "\n",
    "# Read the image\n",
    "img = cv.imread('lambo.jpg')\n",
    "\n",
    "# Draw a green rectangle\n",
    "# Parameters: image, start_point, end_point, color (BGR format), thickness\n",
    "cv.rectangle(img, (100, 100), (500, 400), (0, 255, 0), thickness=4)\n",
    "\n",
    "# Display the image\n",
    "cv.imshow(\"Sports Car\", img)\n",
    "\n",
    "cv.waitKey(0)"
   ]
  },
  {
   "cell_type": "markdown",
   "metadata": {},
   "source": [
    "#### 1.2 Change thickness to -1. What do you notice? Explain."
   ]
  },
  {
   "cell_type": "code",
   "execution_count": null,
   "metadata": {},
   "outputs": [],
   "source": [
    "import cv2 as cv\n",
    "\n",
    "# Read the image\n",
    "img = cv.imread('lambo.jpg')\n",
    "\n",
    "# Draw a filled green rectangle\n",
    "# Parameters: image, start_point, end_point, color (BGR format), thickness\n",
    "cv.rectangle(img, (100, 100), (500, 400), (0, 255, 0), thickness=-1)  # -1 means filled rectangle\n",
    "\n",
    "# Display the image\n",
    "cv.imshow(\"Sports Car\", img)\n",
    "\n",
    "cv.waitKey(0)"
   ]
  },
  {
   "cell_type": "markdown",
   "metadata": {},
   "source": [
    "#### 1.3 Create a program to put Text On the Rectangle in the Image"
   ]
  },
  {
   "cell_type": "code",
   "execution_count": null,
   "metadata": {},
   "outputs": [],
   "source": [
    "import cv2 as cv\n",
    "\n",
    "# Read the image\n",
    "img = cv.imread('lambo.jpg')\n",
    "\n",
    "# Draw a green rectangle\n",
    "# Parameters: image, start_point, end_point, color (BGR format), thickness\n",
    "cv.rectangle(img, (100, 100), (500, 400), (0, 255, 0), thickness=4)\n",
    "\n",
    "# Add text on the image\n",
    "# Parameters: image, text, position, font, scale, color, thickness\n",
    "cv.putText(img, 'Lamborghini', (120, 150), cv.FONT_HERSHEY_SIMPLEX, \n",
    "          1.0, (255, 255, 255), thickness=2)\n",
    "\n",
    "# Display the image\n",
    "cv.imshow(\"Sports Car\", img)\n",
    "\n",
    "cv.waitKey(0)"
   ]
  }
 ],
 "metadata": {
  "kernelspec": {
   "display_name": "venv",
   "language": "python",
   "name": "python3"
  },
  "language_info": {
   "codemirror_mode": {
    "name": "ipython",
    "version": 3
   },
   "file_extension": ".py",
   "mimetype": "text/x-python",
   "name": "python",
   "nbconvert_exporter": "python",
   "pygments_lexer": "ipython3",
   "version": "3.11.5"
  }
 },
 "nbformat": 4,
 "nbformat_minor": 2
}
